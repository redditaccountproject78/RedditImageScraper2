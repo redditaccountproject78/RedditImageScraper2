{
 "cells": [
  {
   "cell_type": "markdown",
   "id": "1bd8ca91",
   "metadata": {},
   "source": [
    "# Reddit image scraper"
   ]
  },
  {
   "cell_type": "markdown",
   "id": "b4cfcf92",
   "metadata": {},
   "source": [
    "**How to run the scraper :**\n",
    "\n",
    "%run RedditImageScraper\\SubDownload.py \n",
    "\n",
    "- arg1 : subreddit_name\n",
    "- arg2 : Nb of images you want to save (~500 per subreddit needed), max limit :100.000"
   ]
  },
  {
   "cell_type": "code",
   "execution_count": null,
   "id": "a59e1c73",
   "metadata": {
    "scrolled": true
   },
   "outputs": [
    {
     "name": "stdout",
     "output_type": "stream",
     "text": [
      "Starting parsing images from r/FitNakedGirls!\n",
      "Saving folder : E:/Projets/GANbang/Data/Reddit_images \n",
      "\n"
     ]
    },
    {
     "name": "stderr",
     "output_type": "stream",
     "text": [
      "C:\\Users\\Jérôme\\.conda\\envs\\GANbang\\lib\\site-packages\\psaw\\PushshiftAPI.py:252: UserWarning: Not all PushShift shards are active. Query results may be incomplete\n",
      "  warnings.warn(shards_down_message)\n"
     ]
    },
    {
     "name": "stdout",
     "output_type": "stream",
     "text": [
      "1 valid image saved\n",
      "2 valid image saved\n",
      "3 valid image saved\n",
      "4 valid image saved\n",
      "5 valid image saved\n",
      "6 valid image saved\n",
      "7 valid image saved\n",
      "8 valid image saved\n",
      "9 valid image saved\n",
      "10 valid image saved\n",
      "11 valid image saved\n",
      "12 valid image saved\n",
      "13 valid image saved\n",
      "14 valid image saved\n",
      "15 valid image saved\n"
     ]
    }
   ],
   "source": [
    "%%time\n",
    "\n",
    "%run RedditImageScraper\\SubDownload.py SexyTummies 1000"
   ]
  },
  {
   "cell_type": "code",
   "execution_count": null,
   "id": "0e626206",
   "metadata": {},
   "outputs": [],
   "source": []
  },
  {
   "cell_type": "code",
   "execution_count": null,
   "id": "bf8b097f",
   "metadata": {},
   "outputs": [],
   "source": []
  }
 ],
 "metadata": {
  "kernelspec": {
   "display_name": "Python 3",
   "language": "python",
   "name": "python3"
  },
  "language_info": {
   "codemirror_mode": {
    "name": "ipython",
    "version": 3
   },
   "file_extension": ".py",
   "mimetype": "text/x-python",
   "name": "python",
   "nbconvert_exporter": "python",
   "pygments_lexer": "ipython3",
   "version": "3.8.11"
  }
 },
 "nbformat": 4,
 "nbformat_minor": 5
}
