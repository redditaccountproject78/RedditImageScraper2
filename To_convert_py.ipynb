{
 "cells": [
  {
   "cell_type": "markdown",
   "id": "2245abfd",
   "metadata": {},
   "source": [
    "# Reddit image scraper"
   ]
  },
  {
   "cell_type": "markdown",
   "id": "5c5aadef",
   "metadata": {},
   "source": [
    "**How to run the scraper :**\n",
    "\n",
    "%run RedditImageScraper\\SubDownload.py \n",
    "\n",
    "- arg1 : subreddit_name\n",
    "- arg2 : Nb of images you want to save (~500 per subreddit needed), max limit :1500"
   ]
  },
  {
   "cell_type": "code",
   "execution_count": 45,
   "id": "02b6d1bd",
   "metadata": {
    "scrolled": true
   },
   "outputs": [
    {
     "name": "stdout",
     "output_type": "stream",
     "text": [
      "Starting parsing images from r/RealGirls!\n",
      "1 valid image saved\n",
      "2 valid image saved\n",
      "3 valid image saved\n",
      "4 valid image saved\n",
      "5 valid image saved\n",
      "6 valid image saved\n",
      "7 valid image saved\n",
      "8 valid image saved\n",
      "9 valid image saved\n",
      "10 valid image saved\n",
      "11 valid image saved\n",
      "12 valid image saved\n",
      "13 valid image saved\n",
      "14 valid image saved\n",
      "15 valid image saved\n",
      "16 valid image saved\n",
      "17 valid image saved\n",
      "18 valid image saved\n",
      "19 valid image saved\n",
      "20 valid image saved\n",
      "finished\n",
      "Wall time: 57.2 s\n"
     ]
    }
   ],
   "source": [
    "%%time\n",
    "\n",
    "%run RedditImageScraper\\SubDownload.py RealGirls 20"
   ]
  }
 ],
 "metadata": {
  "kernelspec": {
   "display_name": "Python 3",
   "language": "python",
   "name": "python3"
  },
  "language_info": {
   "codemirror_mode": {
    "name": "ipython",
    "version": 3
   },
   "file_extension": ".py",
   "mimetype": "text/x-python",
   "name": "python",
   "nbconvert_exporter": "python",
   "pygments_lexer": "ipython3",
   "version": "3.8.11"
  }
 },
 "nbformat": 4,
 "nbformat_minor": 5
}
