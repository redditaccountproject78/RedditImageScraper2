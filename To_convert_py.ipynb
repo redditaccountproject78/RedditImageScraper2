{
 "cells": [
  {
   "cell_type": "markdown",
   "id": "2a075237",
   "metadata": {},
   "source": [
    "# Reddit image scraper"
   ]
  },
  {
   "cell_type": "markdown",
   "id": "c1b6c3ff",
   "metadata": {},
   "source": [
    "**How to run the scraper :**\n",
    "\n",
    "%run RedditImageScraper\\SubDownload.py \n",
    "\n",
    "- arg1 : subreddit_name\n",
    "- arg2 : Nb of images you want to save (~500 per subreddit needed), max limit :1500"
   ]
  },
  {
   "cell_type": "code",
   "execution_count": 64,
   "id": "df8aef3c",
   "metadata": {
    "scrolled": false
   },
   "outputs": [
    {
     "name": "stdout",
     "output_type": "stream",
     "text": [
      "Starting parsing images from r/RealGirls!\n",
      "Saving folder : E:/Projets/GANbang/Data/Reddit_images \n",
      "\n",
      "1 valid image saved\n",
      "2 valid image saved\n",
      "3 valid image saved\n",
      "4 valid image saved\n",
      "5 valid image saved\n",
      "6 valid image saved\n",
      "7 valid image saved\n",
      "8 valid image saved\n",
      "9 valid image saved\n",
      "10 valid image saved\n",
      "11 valid image saved\n",
      "12 valid image saved\n",
      "13 valid image saved\n",
      "14 valid image saved\n",
      "15 valid image saved\n",
      "16 valid image saved\n",
      "17 valid image saved\n",
      "18 valid image saved\n",
      "19 valid image saved\n",
      "20 valid image saved\n",
      "21 valid image saved\n",
      "22 valid image saved\n",
      "23 valid image saved\n",
      "24 valid image saved\n",
      "25 valid image saved\n",
      "26 valid image saved\n",
      "27 valid image saved\n",
      "28 valid image saved\n",
      "29 valid image saved\n",
      "30 valid image saved\n",
      "31 valid image saved\n",
      "32 valid image saved\n",
      "33 valid image saved\n",
      "34 valid image saved\n",
      "35 valid image saved\n",
      "36 valid image saved\n",
      "37 valid image saved\n",
      "38 valid image saved\n",
      "39 valid image saved\n",
      "40 valid image saved\n",
      "41 valid image saved\n",
      "42 valid image saved\n",
      "43 valid image saved\n",
      "44 valid image saved\n",
      "45 valid image saved\n",
      "46 valid image saved\n",
      "47 valid image saved\n",
      "48 valid image saved\n",
      "49 valid image saved\n",
      "50 valid image saved\n",
      "finished\n",
      "Wall time: 2min 33s\n"
     ]
    }
   ],
   "source": [
    "%%time\n",
    "\n",
    "%run RedditImageScraper\\SubDownload.py RealGirls 50"
   ]
  }
 ],
 "metadata": {
  "kernelspec": {
   "display_name": "Python 3",
   "language": "python",
   "name": "python3"
  },
  "language_info": {
   "codemirror_mode": {
    "name": "ipython",
    "version": 3
   },
   "file_extension": ".py",
   "mimetype": "text/x-python",
   "name": "python",
   "nbconvert_exporter": "python",
   "pygments_lexer": "ipython3",
   "version": "3.8.11"
  }
 },
 "nbformat": 4,
 "nbformat_minor": 5
}
